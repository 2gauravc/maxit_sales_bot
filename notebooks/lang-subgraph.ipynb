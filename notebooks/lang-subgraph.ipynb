{
 "cells": [
  {
   "cell_type": "markdown",
   "id": "e258d3c2",
   "metadata": {},
   "source": [
    "## Agent / Graph for Maxit \n",
    "\n",
    "This notebook will implement the \n",
    "\"RM-Agent\" \n",
    "\"peer-comparison\" , \"debt profiling\" \"sub-agents\" for Maxit.  "
   ]
  },
  {
   "cell_type": "code",
   "execution_count": 3,
   "id": "e109188a",
   "metadata": {},
   "outputs": [],
   "source": [
    "%%capture --no-stderr\n",
    "%pip install -U langgraph"
   ]
  },
  {
   "cell_type": "code",
   "execution_count": 27,
   "id": "269e866b",
   "metadata": {},
   "outputs": [],
   "source": [
    "from langgraph.graph import START, StateGraph\n",
    "from typing import TypedDict"
   ]
  },
  {
   "cell_type": "markdown",
   "id": "d62251bb",
   "metadata": {},
   "source": [
    "### Sub Graph Per Comparison "
   ]
  },
  {
   "cell_type": "code",
   "execution_count": 28,
   "id": "d641b0c4",
   "metadata": {},
   "outputs": [],
   "source": [
    "# Define sub-graph peer-comparison \n",
    "from typing import TypedDict, List, Literal, Optional\n",
    "\n",
    "class PeerComparisonState(TypedDict, total=False):\n",
    "    framework_id: Literal[\"peer_comparison\"]\n",
    "    query: str\n",
    "    client_id: str\n",
    "    peer_ids: List[str]\n",
    "    industry_id: Optional[str]\n",
    "    financials: dict  # {ticker: {...}} format\n",
    "    comparison_results: dict  # task_name -> result summary\n",
    "    missing_data: List[str]\n",
    "    response_trace: List[str]\n",
    "    memory_refs: List[str]\n",
    "\n"
   ]
  },
  {
   "cell_type": "code",
   "execution_count": 29,
   "id": "eeff5c79",
   "metadata": {},
   "outputs": [],
   "source": [
    "from langgraph.graph import StateGraph\n",
    "\n",
    "class PeerComparisonGraph:\n",
    "    def __init__(self):\n",
    "        self.graph = self._build_graph()\n",
    "\n",
    "    def _build_graph(self):\n",
    "        graph = StateGraph(PeerComparisonState)\n",
    "\n",
    "        graph.add_node(\"load_financials\", self.load_financial_data)\n",
    "        graph.add_node(\"revenue_comparison\", self.revenue_comparison)\n",
    "        graph.add_node(\"cost_structure_comparison\", self.cost_structure_comparison)\n",
    "        graph.add_node(\"profitability_comparison\", self.profitability_comparison)\n",
    "        graph.add_node(\"leverage_comparison\", self.leverage_comparison)\n",
    "        graph.add_node(\"peer_scoring_summary\", self.peer_scoring_summary)\n",
    "\n",
    "        graph.set_entry_point(\"load_financials\")\n",
    "\n",
    "        graph.add_edge(\"load_financials\", \"revenue_comparison\")\n",
    "        graph.add_edge(\"revenue_comparison\", \"cost_structure_comparison\")\n",
    "        graph.add_edge(\"cost_structure_comparison\", \"profitability_comparison\")\n",
    "        graph.add_edge(\"profitability_comparison\", \"leverage_comparison\")\n",
    "        graph.add_edge(\"leverage_comparison\", \"peer_scoring_summary\")\n",
    "\n",
    "        return graph\n",
    "\n",
    "    def load_financial_data(self, state: PeerComparisonState) -> PeerComparisonState:\n",
    "        # Pulls data from external/ar, internal/c360, etc.\n",
    "        updated_state=None\n",
    "        return updated_state\n",
    "\n",
    "    def revenue_comparison(self, state: PeerComparisonState) -> PeerComparisonState:\n",
    "        updated_state=None\n",
    "        return updated_state\n",
    "\n",
    "    def cost_structure_comparison(self, state: PeerComparisonState) -> PeerComparisonState:\n",
    "        updated_state=None\n",
    "        return updated_state\n",
    "\n",
    "    def profitability_comparison(self, state: PeerComparisonState) -> PeerComparisonState:\n",
    "        updated_state=None\n",
    "        return updated_state\n",
    "\n",
    "    def leverage_comparison(self, state: PeerComparisonState) -> PeerComparisonState:\n",
    "        updated_state=None\n",
    "        return updated_state\n",
    "\n",
    "    def peer_scoring_summary(self, state: PeerComparisonState) -> PeerComparisonState:\n",
    "        final_state=None\n",
    "        return final_state\n"
   ]
  },
  {
   "cell_type": "markdown",
   "id": "4ce24617",
   "metadata": {},
   "source": [
    "### Sub-Graph 'Debt Profiling'"
   ]
  },
  {
   "cell_type": "code",
   "execution_count": 30,
   "id": "386418d4",
   "metadata": {},
   "outputs": [],
   "source": [
    "\n",
    "from typing import TypedDict, List, Optional, Literal\n",
    "\n",
    "class DebtProfilingState(TypedDict, total=False):\n",
    "    framework_id: Literal[\"debt_profiling\"]\n",
    "    query: str\n",
    "    client_id: str\n",
    "    industry_id: Optional[str]\n",
    "    financials: dict            # { \"XYZ\": { \"debt\": ..., \"cash\": ..., ... } }\n",
    "    debt_metrics: dict          # e.g., { \"Debt/Equity\": 1.2, \"NetDebt/EBITDA\": 3.1 }\n",
    "    benchmark_metrics: dict     # e.g., industry or peer group averages\n",
    "    interpretation: str         # final LLM output: \"Moderate leverage, room to borrow\"\n",
    "    memory_refs: List[str]\n"
   ]
  },
  {
   "cell_type": "code",
   "execution_count": 31,
   "id": "e3fce780",
   "metadata": {},
   "outputs": [],
   "source": [
    "from langgraph.graph import StateGraph\n",
    "\n",
    "\n",
    "class DebtProfilingGraph:\n",
    "    def __init__(self):\n",
    "        self.graph = self._build_graph()\n",
    "\n",
    "    def _build_graph(self):\n",
    "        graph = StateGraph(DebtProfilingState)\n",
    "\n",
    "        # Add LangGraph nodes\n",
    "        graph.add_node(\"load_financial_data\", self.load_financial_data)\n",
    "        graph.add_node(\"calculate_debt_metrics\", self.calculate_debt_metrics)\n",
    "        graph.add_node(\"fetch_peer_benchmarks\", self.fetch_peer_benchmarks)\n",
    "        graph.add_node(\"compare_vs_benchmark\", self.compare_vs_benchmark)\n",
    "        graph.add_node(\"synthesize_debt_profile\", self.synthesize_debt_profile)\n",
    "\n",
    "        # Wire up nodes\n",
    "        graph.set_entry_point(\"load_financial_data\")\n",
    "        graph.add_edge(\"load_financial_data\", \"calculate_debt_metrics\")\n",
    "        graph.add_edge(\"calculate_debt_metrics\", \"fetch_peer_benchmarks\")\n",
    "        graph.add_edge(\"fetch_peer_benchmarks\", \"compare_vs_benchmark\")\n",
    "        graph.add_edge(\"compare_vs_benchmark\", \"synthesize_debt_profile\")\n",
    "\n",
    "        return graph\n",
    "\n",
    "    # === LangGraph node functions ===\n",
    "\n",
    "    def load_financial_data(self, state: DebtProfilingState) -> DebtProfilingState:\n",
    "        # Pull from namespace like external/ar/company/{ticker}\n",
    "        # Extract Total Debt, Cash, EBITDA, Equity\n",
    "        financials = {\n",
    "            \"total_debt\": 3200,\n",
    "            \"cash\": 800,\n",
    "            \"ebitda\": 1020,\n",
    "            \"equity\": 2700,\n",
    "        }\n",
    "        state[\"financials\"] = financials\n",
    "        return state\n",
    "\n",
    "    def calculate_debt_metrics(self, state: DebtProfilingState) -> DebtProfilingState:\n",
    "        f = state[\"financials\"]\n",
    "        state[\"debt_metrics\"] = {\n",
    "            \"Debt/Equity\": round(f[\"total_debt\"] / f[\"equity\"], 2),\n",
    "            \"NetDebt/EBITDA\": round((f[\"total_debt\"] - f[\"cash\"]) / f[\"ebitda\"], 2),\n",
    "        }\n",
    "        return state\n",
    "\n",
    "    def fetch_peer_benchmarks(self, state: DebtProfilingState) -> DebtProfilingState:\n",
    "        # Dummy industry or peer benchmarks\n",
    "        state[\"benchmark_metrics\"] = {\n",
    "            \"Debt/Equity\": 1.1,\n",
    "            \"NetDebt/EBITDA\": 2.7\n",
    "        }\n",
    "        return state\n",
    "\n",
    "    def compare_vs_benchmark(self, state: DebtProfilingState) -> DebtProfilingState:\n",
    "        # Optionally store deltas or annotate deviations\n",
    "        metrics = state[\"debt_metrics\"]\n",
    "        peers = state[\"benchmark_metrics\"]\n",
    "        interpretation = {\n",
    "            k: \"above average\" if metrics[k] > peers[k] else \"below average\"\n",
    "            for k in metrics\n",
    "        }\n",
    "        state[\"interpretation_summary\"] = interpretation\n",
    "        return state\n",
    "\n",
    "    def synthesize_debt_profile(self, state: DebtProfilingState) -> DebtProfilingState:\n",
    "        interpretation = state.get(\"interpretation_summary\", {})\n",
    "        summary = (\n",
    "            f\"Debt/Equity is {interpretation.get('Debt/Equity')}, \"\n",
    "            f\"Net Debt/EBITDA is {interpretation.get('NetDebt/EBITDA')} — \"\n",
    "            f\"overall leverage is {'moderate to high' if 'above average' in interpretation.values() else 'within industry norms'}.\"\n",
    "        )\n",
    "        state[\"interpretation\"] = summary\n",
    "        return state\n"
   ]
  },
  {
   "cell_type": "markdown",
   "id": "e12c5e25",
   "metadata": {},
   "source": [
    "### Define the RM Agent "
   ]
  },
  {
   "cell_type": "code",
   "execution_count": 32,
   "id": "85dc86dc",
   "metadata": {},
   "outputs": [],
   "source": [
    "from typing import TypedDict, Literal\n",
    "from langgraph.graph import START, StateGraph\n",
    "\n",
    "class RMAgentState(TypedDict, total=False):\n",
    "    query: str\n",
    "    client_id: str\n",
    "    framework_id: Literal[\"peer_comparison\", \"debt_profiling\"]\n",
    "    result: str\n"
   ]
  },
  {
   "cell_type": "code",
   "execution_count": 46,
   "id": "c1c93ec3",
   "metadata": {},
   "outputs": [],
   "source": [
    "def detect_framework(state: RMAgentState) -> RMAgentState:\n",
    "    # Dummy logic for example purposes\n",
    "    if \"compare\" in state[\"query\"]:\n",
    "        state[\"framework_id\"] = \"peer_comparison\"\n",
    "    else:\n",
    "        state[\"framework_id\"] = \"debt_profiling\"\n",
    "    return state\n",
    "\n",
    "def route_to_subgraph(state: RMAgentState) -> str:\n",
    "    return state[\"framework_id\"]  # Must match subgraph node names\n",
    "\n",
    "def finalize_response(state: RMAgentState) -> RMAgentState:\n",
    "    return state \n"
   ]
  },
  {
   "cell_type": "code",
   "execution_count": 47,
   "id": "d7079ad5",
   "metadata": {},
   "outputs": [],
   "source": [
    "# Import your sub-agent graphs\n",
    "peer_comparison_graph = PeerComparisonGraph().graph.compile()\n",
    "debt_profiling_graph = DebtProfilingGraph().graph.compile()\n",
    "\n",
    "# Build the parent RM Agent graph\n",
    "rm_graph_builder = StateGraph(RMAgentState)\n",
    "\n",
    "rm_graph_builder.add_node(\"detect_framework\", detect_framework)\n",
    "\n",
    "# Add sub-agent graphs by name\n",
    "rm_graph_builder.add_node(\"peer_comparison\", peer_comparison_graph)\n",
    "rm_graph_builder.add_node(\"debt_profiling\", debt_profiling_graph)\n",
    "\n",
    "# Routing logic\n",
    "rm_graph_builder.set_entry_point(\"detect_framework\")\n",
    "rm_graph_builder.add_conditional_edges(\"detect_framework\", route_to_subgraph)\n",
    "\n",
    "# Ending State \n",
    "rm_graph_builder.add_node(\"finalize_response\", finalize_response)\n",
    "rm_graph_builder.add_edge(\"peer_comparison\", \"finalize_response\")\n",
    "rm_graph_builder.add_edge(\"debt_profiling\", \"finalize_response\")\n",
    "rm_graph_builder.add_edge(\"finalize_response\", \"__end__\")\n",
    "\n",
    "# Final graph\n",
    "rm_agent_graph = rm_graph_builder.compile()"
   ]
  },
  {
   "cell_type": "code",
   "execution_count": 36,
   "id": "ea8fc053",
   "metadata": {},
   "outputs": [
    {
     "data": {
      "image/png": "[encoded data removed]",
      "text/plain": [
       "<IPython.core.display.Image object>"
      ]
     },
     "metadata": {},
     "output_type": "display_data"
    }
   ],
   "source": [
    "from IPython.display import Image, display\n",
    "# Setting array to 1 will show the internal structure of the nested graph\n",
    "display(Image(rm_agent_graph.get_graph(xray=1).draw_mermaid_png()))"
   ]
  },
  {
   "cell_type": "code",
   "execution_count": 50,
   "id": "5d0fafc1",
   "metadata": {},
   "outputs": [
    {
     "name": "stdout",
     "output_type": "stream",
     "text": [
      "{'query': 'How does XYZ compare do on profitability?', 'client_id': 'xyz', 'framework_id': 'peer_comparison'}\n"
     ]
    }
   ],
   "source": [
    "initial_state = {\n",
    "    \"query\": \"How does XYZ compare do on profitability?\",\n",
    "    \"client_id\": \"xyz\"\n",
    "}\n",
    "\n",
    "res_state = rm_agent_graph.invoke(initial_state)\n",
    "print(res_state)"
   ]
  },
  {
   "cell_type": "code",
   "execution_count": null,
   "id": "8f600cf8",
   "metadata": {},
   "outputs": [],
   "source": []
  }
 ],
 "metadata": {
  "kernelspec": {
   "display_name": "Python 3",
   "language": "python",
   "name": "python3"
  },
  "language_info": {
   "codemirror_mode": {
    "name": "ipython",
    "version": 3
   },
   "file_extension": ".py",
   "mimetype": "text/x-python",
   "name": "python",
   "nbconvert_exporter": "python",
   "pygments_lexer": "ipython3",
   "version": "3.12.1"
  }
 },
 "nbformat": 4,
 "nbformat_minor": 5
}
